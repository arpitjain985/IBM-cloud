{
  "nbformat": 4,
  "nbformat_minor": 0,
  "metadata": {
    "colab": {
      "provenance": []
    },
    "kernelspec": {
      "name": "python3",
      "display_name": "Python 3"
    },
    "language_info": {
      "name": "python"
    }
  },
  "cells": [
    {
      "cell_type": "code",
      "execution_count": null,
      "metadata": {
        "id": "bzU6fcEAcWcU"
      },
      "outputs": [],
      "source": [
        "# Recipe Preparation Agent - IBM SkillsBuild (Solution)\n",
        "# Import libraries\n",
        "!pip install ibm_watsonx ai\n",
        "from ibm_watsonx.ai import WatsonxAI\n",
        "import pandas as pd\n",
        "\n",
        "# Authenticate with IBM Cloud (replace with your API key)\n",
        "api_key = \"\"\n",
        "project_id = \"r8_8RvTZliFL91EGnTvC4drHIfJbqnNm0H2Zu6Gc\"\n",
        "watsonx = WatsonxAI(api_key=api_key, project_id=project_id)\n",
        "\n",
        "# Sample recipe database (mock data)\n",
        "recipes_db = {\n",
        "    \"Pasta\": [\"Tomatoes\", \"Pasta\", \"Garlic\", \"Olive Oil\"],\n",
        "    \"Vegetable Stir Fry\": [\"Bell Peppers\", \"Broccoli\", \"Soy Sauce\", \"Rice\"],\n",
        "    \"Omelette\": [\"Eggs\", \"Cheese\", \"Mushrooms\", \"Butter\"]\n",
        "}\n",
        "\n",
        "# RAG-based Recipe Generator\n",
        "def generate_recipe(ingredients):\n",
        "    # Step 1: Retrieve relevant recipes (mock retrieval)\n",
        "    matched_recipes = []\n",
        "    for name, items in recipes_db.items():\n",
        "        if all(item in ingredients for item in items):\n",
        "            matched_recipes.append(name)\n",
        "\n",
        "    # Step 2: Generate instructions using IBM Granite\n",
        "    if matched_recipes:\n",
        "        prompt = f\"Generate step-by-step recipe for {matched_recipes[0]} using {', '.join(ingredients)}:\"\n",
        "        response = watsonx.generate_text(\n",
        "            model=\"ibm/granite-13b-chat-v1\",\n",
        "            prompt=prompt\n",
        "        )\n",
        "        return response[\"results\"][0][\"generated_text\"]\n",
        "    else:\n",
        "        return \"No recipes found. Try different ingredients!\"\n",
        "\n",
        "# Demo\n",
        "user_ingredients = [\"Eggs\", \"Cheese\", \"Mushrooms\"]\n",
        "print(generate_recipe(user_ingredients))"
      ]
    }
  ]
}